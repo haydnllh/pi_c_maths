{
  "cells": [
    {
      "cell_type": "markdown",
      "metadata": {
        "id": "view-in-github",
        "colab_type": "text"
      },
      "source": [
        "<a href=\"https://colab.research.google.com/github/haydnllh/pi_c_maths/blob/main/%F0%9F%A4%93.ipynb\" target=\"_parent\"><img src=\"https://colab.research.google.com/assets/colab-badge.svg\" alt=\"Open In Colab\"/></a>"
      ]
    },
    {
      "cell_type": "markdown",
      "metadata": {
        "id": "T_dJzAWSAFbL"
      },
      "source": [
        "This is my first machine learning program."
      ]
    },
    {
      "cell_type": "code",
      "execution_count": 1,
      "metadata": {
        "id": "i4UO8p2zsnPx"
      },
      "outputs": [],
      "source": [
        "import tensorflow as tf\n",
        "from tensorflow import keras\n",
        "from keras import layers\n",
        "import numpy as np\n",
        "import cv2\n",
        "from google.colab.patches import cv2_imshow\n",
        "import os\n",
        "import shutil\n",
        "import math\n",
        "!pip install -q rembg\n",
        "import rembg"
      ]
    },
    {
      "cell_type": "code",
      "execution_count": 2,
      "metadata": {
        "colab": {
          "base_uri": "https://localhost:8080/"
        },
        "id": "iqoma3VLy3U9",
        "outputId": "38333331-d729-467f-ec76-8bb8f33348b7"
      },
      "outputs": [
        {
          "output_type": "stream",
          "name": "stdout",
          "text": [
            "Drive already mounted at /content/drive; to attempt to forcibly remount, call drive.mount(\"/content/drive\", force_remount=True).\n"
          ]
        }
      ],
      "source": [
        "from google.colab import drive\n",
        "drive.mount('/content/drive')"
      ]
    },
    {
      "cell_type": "code",
      "execution_count": 8,
      "metadata": {
        "colab": {
          "base_uri": "https://localhost:8080/",
          "height": 52
        },
        "id": "O7SD_GKKrhAp",
        "outputId": "8a0a75d1-ecee-4921-8319-f361410595b8"
      },
      "outputs": [
        {
          "output_type": "execute_result",
          "data": {
            "text/plain": [
              "'!kaggle datasets download -d xainano/handwrittenmathsymbols\\n!unzip -q handwrittenmathsymbols.zip\\n!unrar x -inul -y \"data.rar\"'"
            ],
            "application/vnd.google.colaboratory.intrinsic+json": {
              "type": "string"
            }
          },
          "metadata": {},
          "execution_count": 8
        }
      ],
      "source": [
        "!mkdir ~/.kaggle\n",
        "!cp /content/drive/MyDrive/kaggle.json ~/.kaggle/kaggle.json\n",
        "!chmod 600 ~/.kaggle/kaggle.json\n",
        "'''!kaggle datasets download -d xainano/handwrittenmathsymbols\n",
        "!unzip -q handwrittenmathsymbols.zip\n",
        "!unrar x -inul -y \"data.rar\"'''"
      ]
    },
    {
      "cell_type": "code",
      "source": [
        "#I love u clarencezhao\n",
        "!kaggle datasets download -d clarencezhao/handwritten-math-symbol-dataset\n",
        "!unzip -q handwritten-math-symbol-dataset.zip"
      ],
      "metadata": {
        "colab": {
          "base_uri": "https://localhost:8080/"
        },
        "id": "d6PpDS_GIo43",
        "outputId": "33b26ee8-5e49-4b4d-8fbf-53afdf7343e4"
      },
      "execution_count": 9,
      "outputs": [
        {
          "output_type": "stream",
          "name": "stdout",
          "text": [
            "Downloading handwritten-math-symbol-dataset.zip to /content\n",
            " 80% 46.0M/57.8M [00:00<00:00, 80.1MB/s]\n",
            "100% 57.8M/57.8M [00:00<00:00, 86.4MB/s]\n"
          ]
        }
      ]
    },
    {
      "cell_type": "code",
      "execution_count": 3,
      "metadata": {
        "id": "iKL3fjnUU_ly"
      },
      "outputs": [],
      "source": [
        "def resize(image, d):\n",
        "  (image_h, image_w) = image.shape\n",
        "  ar = image_w/image_h\n",
        "  re_dim = d - d//10\n",
        "  re_dim_y = int(re_dim*ar)\n",
        "  re_dim_x = int(re_dim//ar)\n",
        "  oe = int(not bool(d%2))\n",
        "  if re_dim_y % 2 == oe:\n",
        "    re_dim_y += 1\n",
        "  elif re_dim_x % 2 == oe:\n",
        "    re_dim_x += 1\n",
        "  if ar > 1:\n",
        "    resized = cv2.resize(image, (re_dim,re_dim_x))\n",
        "  else:\n",
        "    resized = cv2.resize(image, (re_dim_y,re_dim))\n",
        "  (re_h,re_w) = resized.shape\n",
        "  img_box = np.zeros([d,d],\"uint8\")\n",
        "  bound_y = round((d-re_h)/2)\n",
        "  bound_x = round((d-re_w)/2)\n",
        "  img_box[bound_y:bound_y+re_h,bound_x:bound_x+re_w] = resized\n",
        "  return img_box"
      ]
    },
    {
      "cell_type": "code",
      "execution_count": 4,
      "metadata": {
        "id": "nV95OKOQ_DCa"
      },
      "outputs": [],
      "source": [
        "def img_segment(image, dimension):\n",
        "  kernel = np.ones((5, 5), np.uint8)\n",
        "  pix = dimension ** 2 * 0.5\n",
        "  input = np.array(image.shape[:2])\n",
        "  image_rembg = rembg.remove(image)\n",
        "  input = image_rembg.copy()\n",
        "  image_opening = cv2.morphologyEx(image_rembg, cv2.MORPH_OPEN, kernel, iterations = 2)\n",
        "  co_bg = np.where(image_opening[:,:,3] < 150)\n",
        "  co_fg = np.where(image_opening[:,:,3] >= 150)\n",
        "  input[co_bg] = (0,0,0,255)\n",
        "  input[co_fg] = (255,255,255,255)\n",
        "  gray_input = cv2.cvtColor(input, cv2.COLOR_BGR2GRAY)\n",
        "  connected_comp = cv2.connectedComponentsWithStats(gray_input.T, 4, cv2.CV_32S)\n",
        "  (numLabels, labels, stats) = connected_comp[:3]\n",
        "  component_list = []\n",
        "  skip = False\n",
        "  for i in range(1, numLabels):\n",
        "    if skip:\n",
        "      skip = False\n",
        "      continue\n",
        "    skip = False\n",
        "    #think of everything transpose\n",
        "    bounding_box_x = stats[i, cv2.CC_STAT_LEFT]\n",
        "    bounding_box_y = stats[i, cv2.CC_STAT_TOP]\n",
        "    bounding_box_height = stats[i, cv2.CC_STAT_HEIGHT]\n",
        "    bounding_box_width = stats[i, cv2.CC_STAT_WIDTH]\n",
        "    area = stats[i, cv2.CC_STAT_AREA]\n",
        "    bounding_box = labels[bounding_box_y: bounding_box_y + bounding_box_height, bounding_box_x: bounding_box_x + bounding_box_width]\n",
        "    component = (bounding_box == i).astype(\"uint8\") * 255\n",
        "    resized = resize(component.T, dimension)\n",
        "    if np.count_nonzero(resized == 255) > dimension ** 2 * 0.3 and pix < dimension ** 2 * 0.15:\n",
        "      component_list.pop()\n",
        "      if stats[i+1, cv2.CC_STAT_LEFT] > stats[i, cv2.CC_STAT_LEFT]:\n",
        "        left = False\n",
        "      else:\n",
        "        left = True\n",
        "      bounding_box_x = stats[i+int(left), cv2.CC_STAT_LEFT]\n",
        "      bounding_box_y = stats[i-1, cv2.CC_STAT_TOP]\n",
        "      bounding_box_width = stats[i+int(not left), cv2.CC_STAT_LEFT] + stats[i+int(not left), cv2.CC_STAT_WIDTH] - bounding_box_x\n",
        "      bounding_box_height = stats[i-1, cv2.CC_STAT_HEIGHT]\n",
        "      bounding_box = labels[bounding_box_y: bounding_box_y + bounding_box_height, bounding_box_x: bounding_box_x + bounding_box_width]\n",
        "      component = np.where(np.isin(bounding_box, [i-1, i, i+1]), 255, bounding_box).astype('uint8')\n",
        "      resized = resize(component.T, dimension)\n",
        "      skip = True\n",
        "    cv2_imshow(resized)\n",
        "    pix = np.count_nonzero(resized == 255)\n",
        "    resized = np.expand_dims(resized, axis=2)\n",
        "    input = np.expand_dims(resized, axis=0)\n",
        "    component_list.append(input)\n",
        "  return component_list"
      ]
    },
    {
      "cell_type": "code",
      "execution_count": 5,
      "metadata": {
        "colab": {
          "base_uri": "https://localhost:8080/",
          "height": 1000
        },
        "id": "USTxXERRVSX0",
        "outputId": "44d49b24-958b-427a-9ba0-8964ca7bb0a4"
      },
      "outputs": [
        {
          "output_type": "display_data",
          "data": {
            "text/plain": [
              "<IPython.core.display.HTML object>"
            ],
            "text/html": [
              "\n",
              "     <input type=\"file\" id=\"files-969a12d8-3657-48a9-9b6f-0b446d8e762a\" name=\"files[]\" multiple disabled\n",
              "        style=\"border:none\" />\n",
              "     <output id=\"result-969a12d8-3657-48a9-9b6f-0b446d8e762a\">\n",
              "      Upload widget is only available when the cell has been executed in the\n",
              "      current browser session. Please rerun this cell to enable.\n",
              "      </output>\n",
              "      <script>// Copyright 2017 Google LLC\n",
              "//\n",
              "// Licensed under the Apache License, Version 2.0 (the \"License\");\n",
              "// you may not use this file except in compliance with the License.\n",
              "// You may obtain a copy of the License at\n",
              "//\n",
              "//      http://www.apache.org/licenses/LICENSE-2.0\n",
              "//\n",
              "// Unless required by applicable law or agreed to in writing, software\n",
              "// distributed under the License is distributed on an \"AS IS\" BASIS,\n",
              "// WITHOUT WARRANTIES OR CONDITIONS OF ANY KIND, either express or implied.\n",
              "// See the License for the specific language governing permissions and\n",
              "// limitations under the License.\n",
              "\n",
              "/**\n",
              " * @fileoverview Helpers for google.colab Python module.\n",
              " */\n",
              "(function(scope) {\n",
              "function span(text, styleAttributes = {}) {\n",
              "  const element = document.createElement('span');\n",
              "  element.textContent = text;\n",
              "  for (const key of Object.keys(styleAttributes)) {\n",
              "    element.style[key] = styleAttributes[key];\n",
              "  }\n",
              "  return element;\n",
              "}\n",
              "\n",
              "// Max number of bytes which will be uploaded at a time.\n",
              "const MAX_PAYLOAD_SIZE = 100 * 1024;\n",
              "\n",
              "function _uploadFiles(inputId, outputId) {\n",
              "  const steps = uploadFilesStep(inputId, outputId);\n",
              "  const outputElement = document.getElementById(outputId);\n",
              "  // Cache steps on the outputElement to make it available for the next call\n",
              "  // to uploadFilesContinue from Python.\n",
              "  outputElement.steps = steps;\n",
              "\n",
              "  return _uploadFilesContinue(outputId);\n",
              "}\n",
              "\n",
              "// This is roughly an async generator (not supported in the browser yet),\n",
              "// where there are multiple asynchronous steps and the Python side is going\n",
              "// to poll for completion of each step.\n",
              "// This uses a Promise to block the python side on completion of each step,\n",
              "// then passes the result of the previous step as the input to the next step.\n",
              "function _uploadFilesContinue(outputId) {\n",
              "  const outputElement = document.getElementById(outputId);\n",
              "  const steps = outputElement.steps;\n",
              "\n",
              "  const next = steps.next(outputElement.lastPromiseValue);\n",
              "  return Promise.resolve(next.value.promise).then((value) => {\n",
              "    // Cache the last promise value to make it available to the next\n",
              "    // step of the generator.\n",
              "    outputElement.lastPromiseValue = value;\n",
              "    return next.value.response;\n",
              "  });\n",
              "}\n",
              "\n",
              "/**\n",
              " * Generator function which is called between each async step of the upload\n",
              " * process.\n",
              " * @param {string} inputId Element ID of the input file picker element.\n",
              " * @param {string} outputId Element ID of the output display.\n",
              " * @return {!Iterable<!Object>} Iterable of next steps.\n",
              " */\n",
              "function* uploadFilesStep(inputId, outputId) {\n",
              "  const inputElement = document.getElementById(inputId);\n",
              "  inputElement.disabled = false;\n",
              "\n",
              "  const outputElement = document.getElementById(outputId);\n",
              "  outputElement.innerHTML = '';\n",
              "\n",
              "  const pickedPromise = new Promise((resolve) => {\n",
              "    inputElement.addEventListener('change', (e) => {\n",
              "      resolve(e.target.files);\n",
              "    });\n",
              "  });\n",
              "\n",
              "  const cancel = document.createElement('button');\n",
              "  inputElement.parentElement.appendChild(cancel);\n",
              "  cancel.textContent = 'Cancel upload';\n",
              "  const cancelPromise = new Promise((resolve) => {\n",
              "    cancel.onclick = () => {\n",
              "      resolve(null);\n",
              "    };\n",
              "  });\n",
              "\n",
              "  // Wait for the user to pick the files.\n",
              "  const files = yield {\n",
              "    promise: Promise.race([pickedPromise, cancelPromise]),\n",
              "    response: {\n",
              "      action: 'starting',\n",
              "    }\n",
              "  };\n",
              "\n",
              "  cancel.remove();\n",
              "\n",
              "  // Disable the input element since further picks are not allowed.\n",
              "  inputElement.disabled = true;\n",
              "\n",
              "  if (!files) {\n",
              "    return {\n",
              "      response: {\n",
              "        action: 'complete',\n",
              "      }\n",
              "    };\n",
              "  }\n",
              "\n",
              "  for (const file of files) {\n",
              "    const li = document.createElement('li');\n",
              "    li.append(span(file.name, {fontWeight: 'bold'}));\n",
              "    li.append(span(\n",
              "        `(${file.type || 'n/a'}) - ${file.size} bytes, ` +\n",
              "        `last modified: ${\n",
              "            file.lastModifiedDate ? file.lastModifiedDate.toLocaleDateString() :\n",
              "                                    'n/a'} - `));\n",
              "    const percent = span('0% done');\n",
              "    li.appendChild(percent);\n",
              "\n",
              "    outputElement.appendChild(li);\n",
              "\n",
              "    const fileDataPromise = new Promise((resolve) => {\n",
              "      const reader = new FileReader();\n",
              "      reader.onload = (e) => {\n",
              "        resolve(e.target.result);\n",
              "      };\n",
              "      reader.readAsArrayBuffer(file);\n",
              "    });\n",
              "    // Wait for the data to be ready.\n",
              "    let fileData = yield {\n",
              "      promise: fileDataPromise,\n",
              "      response: {\n",
              "        action: 'continue',\n",
              "      }\n",
              "    };\n",
              "\n",
              "    // Use a chunked sending to avoid message size limits. See b/62115660.\n",
              "    let position = 0;\n",
              "    do {\n",
              "      const length = Math.min(fileData.byteLength - position, MAX_PAYLOAD_SIZE);\n",
              "      const chunk = new Uint8Array(fileData, position, length);\n",
              "      position += length;\n",
              "\n",
              "      const base64 = btoa(String.fromCharCode.apply(null, chunk));\n",
              "      yield {\n",
              "        response: {\n",
              "          action: 'append',\n",
              "          file: file.name,\n",
              "          data: base64,\n",
              "        },\n",
              "      };\n",
              "\n",
              "      let percentDone = fileData.byteLength === 0 ?\n",
              "          100 :\n",
              "          Math.round((position / fileData.byteLength) * 100);\n",
              "      percent.textContent = `${percentDone}% done`;\n",
              "\n",
              "    } while (position < fileData.byteLength);\n",
              "  }\n",
              "\n",
              "  // All done.\n",
              "  yield {\n",
              "    response: {\n",
              "      action: 'complete',\n",
              "    }\n",
              "  };\n",
              "}\n",
              "\n",
              "scope.google = scope.google || {};\n",
              "scope.google.colab = scope.google.colab || {};\n",
              "scope.google.colab._files = {\n",
              "  _uploadFiles,\n",
              "  _uploadFilesContinue,\n",
              "};\n",
              "})(self);\n",
              "</script> "
            ]
          },
          "metadata": {}
        },
        {
          "output_type": "stream",
          "name": "stdout",
          "text": [
            "Saving IMG_1725.jpg to IMG_1725 (5).jpg\n"
          ]
        },
        {
          "output_type": "display_data",
          "data": {
            "text/plain": [
              "<PIL.Image.Image image mode=L size=155x155>"
            ],
            "image/png": "[encoded data removed]"
          },
          "metadata": {}
        },
        {
          "output_type": "display_data",
          "data": {
            "text/plain": [
              "<PIL.Image.Image image mode=L size=155x155>"
            ],
            "image/png": "[encoded data removed]"
          },
          "metadata": {}
        },
        {
          "output_type": "display_data",
          "data": {
            "text/plain": [
              "<PIL.Image.Image image mode=L size=155x155>"
            ],
            "image/png": "[encoded data removed]"
          },
          "metadata": {}
        },
        {
          "output_type": "display_data",
          "data": {
            "text/plain": [
              "<PIL.Image.Image image mode=L size=155x155>"
            ],
            "image/png": "[encoded data removed]"
          },
          "metadata": {}
        },
        {
          "output_type": "display_data",
          "data": {
            "text/plain": [
              "<PIL.Image.Image image mode=L size=155x155>"
            ],
            "image/png": "[encoded data removed]"
          },
          "metadata": {}
        },
        {
          "output_type": "display_data",
          "data": {
            "text/plain": [
              "<PIL.Image.Image image mode=L size=155x155>"
            ],
            "image/png": "[encoded data removed]"
          },
          "metadata": {}
        },
        {
          "output_type": "display_data",
          "data": {
            "text/plain": [
              "<PIL.Image.Image image mode=L size=155x155>"
            ],
            "image/png": "[encoded data removed]"
          },
          "metadata": {}
        },
        {
          "output_type": "display_data",
          "data": {
            "text/plain": [
              "<PIL.Image.Image image mode=L size=155x155>"
            ],
            "image/png": "[encoded data removed]"
          },
          "metadata": {}
        },
        {
          "output_type": "display_data",
          "data": {
            "text/plain": [
              "<PIL.Image.Image image mode=L size=155x155>"
            ],
            "image/png": "[encoded data removed]"
          },
          "metadata": {}
        },
        {
          "output_type": "display_data",
          "data": {
            "text/plain": [
              "<PIL.Image.Image image mode=L size=155x155>"
            ],
            "image/png": "[encoded data removed]"
          },
          "metadata": {}
        },
        {
          "output_type": "display_data",
          "data": {
            "text/plain": [
              "<PIL.Image.Image image mode=L size=28x28>"
            ],
            "image/png": "[encoded data removed]"
          },
          "metadata": {}
        },
        {
          "output_type": "display_data",
          "data": {
            "text/plain": [
              "<PIL.Image.Image image mode=L size=28x28>"
            ],
            "image/png": "[encoded data removed]"
          },
          "metadata": {}
        },
        {
          "output_type": "display_data",
          "data": {
            "text/plain": [
              "<PIL.Image.Image image mode=L size=28x28>"
            ],
            "image/png": "[encoded data removed]"
          },
          "metadata": {}
        },
        {
          "output_type": "display_data",
          "data": {
            "text/plain": [
              "<PIL.Image.Image image mode=L size=28x28>"
            ],
            "image/png": "[encoded data removed]"
          },
          "metadata": {}
        },
        {
          "output_type": "display_data",
          "data": {
            "text/plain": [
              "<PIL.Image.Image image mode=L size=28x28>"
            ],
            "image/png": "[encoded data removed]"
          },
          "metadata": {}
        },
        {
          "output_type": "display_data",
          "data": {
            "text/plain": [
              "<PIL.Image.Image image mode=L size=28x28>"
            ],
            "image/png": "[encoded data removed]"
          },
          "metadata": {}
        },
        {
          "output_type": "display_data",
          "data": {
            "text/plain": [
              "<PIL.Image.Image image mode=L size=28x28>"
            ],
            "image/png": "[encoded data removed]"
          },
          "metadata": {}
        },
        {
          "output_type": "display_data",
          "data": {
            "text/plain": [
              "<PIL.Image.Image image mode=L size=28x28>"
            ],
            "image/png": "[encoded data removed]"
          },
          "metadata": {}
        },
        {
          "output_type": "display_data",
          "data": {
            "text/plain": [
              "<PIL.Image.Image image mode=L size=28x28>"
            ],
            "image/png": "[encoded data removed]"
          },
          "metadata": {}
        },
        {
          "output_type": "display_data",
          "data": {
            "text/plain": [
              "<PIL.Image.Image image mode=L size=28x28>"
            ],
            "image/png": "[encoded data removed]"
          },
          "metadata": {}
        }
      ],
      "source": [
        "from google.colab import files\n",
        "uploaded = files.upload()\n",
        "file_name = next(iter(uploaded.keys()))\n",
        "path = os.path.join(\"/content\", file_name)\n",
        "image = cv2.imread(path)\n",
        "op_list = img_segment(image,155)\n",
        "mnist_list = img_segment(image,28)"
      ]
    },
    {
      "cell_type": "code",
      "source": [
        "from keras.models import load_model\n",
        "model_mnist = load_model('/content/drive/MyDrive/models/model_mnist.keras')\n",
        "model_op = load_model('/content/drive/MyDrive/models/model_op.keras')"
      ],
      "metadata": {
        "id": "kbtHGWqLdBCm"
      },
      "execution_count": 6,
      "outputs": []
    },
    {
      "cell_type": "code",
      "execution_count": 15,
      "metadata": {
        "colab": {
          "base_uri": "https://localhost:8080/",
          "height": 122
        },
        "id": "3eu89jZlhpKl",
        "outputId": "95036364-208d-49d6-a97e-96bef6a8f847"
      },
      "outputs": [
        {
          "output_type": "execute_result",
          "data": {
            "text/plain": [
              "'desired_class = [\\'+\\', \\'-\\', \\'0\\', \\'1\\', \\'2\\', \\'3\\', \\'4\\', \\'5\\', \\'6\\', \\'7\\', \\'8\\', \\'9\\', \\'times\\', \\'div\\']\\npath = \"/content/extracted_images\"\\nfor folders in os.listdir(path):\\n  if folders not in desired_class:\\n    shutil.rmtree(os.path.join(path,folders))\\nds_train = tf.keras.preprocessing.image_dataset_from_directory(\\n    \"/content/extracted_images\",\\n    labels = \"inferred\",\\n    color_mode = \\'grayscale\\',\\n    image_size = (45,45),\\n    batch_size = 1024,\\n    class_names = desired_class,\\n    shuffle = True,\\n    seed = 719,\\n)\\nds_train = ds_train.map(function)\\nds_train.cache()'"
            ],
            "application/vnd.google.colaboratory.intrinsic+json": {
              "type": "string"
            }
          },
          "metadata": {},
          "execution_count": 15
        }
      ],
      "source": [
        "def normalise(image, label):\n",
        "  return tf.cast(image, tf.float32)/255.0, label\n",
        "'''desired_class = ['+', '-', '0', '1', '2', '3', '4', '5', '6', '7', '8', '9', 'times', 'div']\n",
        "path = \"/content/extracted_images\"\n",
        "for folders in os.listdir(path):\n",
        "  if folders not in desired_class:\n",
        "    shutil.rmtree(os.path.join(path,folders))\n",
        "ds_train = tf.keras.preprocessing.image_dataset_from_directory(\n",
        "    \"/content/extracted_images\",\n",
        "    labels = \"inferred\",\n",
        "    color_mode = 'grayscale',\n",
        "    image_size = (45,45),\n",
        "    batch_size = 1024,\n",
        "    class_names = desired_class,\n",
        "    shuffle = True,\n",
        "    seed = 719,\n",
        ")\n",
        "ds_train = ds_train.map(function)\n",
        "ds_train.cache()'''"
      ]
    },
    {
      "cell_type": "code",
      "source": [
        "desired_class = ['plus cleaned', 'minus', 'zero', 'one', 'two', 'three', 'four', 'five', 'six', 'seven', 'eight', 'nine', 'times', 'div']\n",
        "path = \"/content/train\"\n",
        "for folders in os.listdir(path):\n",
        "  if folders not in desired_class:\n",
        "    shutil.rmtree(os.path.join(path,folders))\n",
        "ds_train = tf.keras.preprocessing.image_dataset_from_directory(\n",
        "    path,\n",
        "    labels = \"inferred\",\n",
        "    color_mode = 'grayscale',\n",
        "    image_size = (155,155),\n",
        "    batch_size = 64,\n",
        "    class_names = desired_class,\n",
        "    shuffle = True,\n",
        "    seed = 719,\n",
        ")\n",
        "ds_train = ds_train.map(normalise)\n",
        "ds_train.cache()"
      ],
      "metadata": {
        "colab": {
          "base_uri": "https://localhost:8080/"
        },
        "id": "SDUWai13J2Fj",
        "outputId": "16125686-5dea-4890-fede-dd52ae4a28f2"
      },
      "execution_count": 16,
      "outputs": [
        {
          "output_type": "stream",
          "name": "stdout",
          "text": [
            "Found 6490 files belonging to 14 classes.\n"
          ]
        },
        {
          "output_type": "execute_result",
          "data": {
            "text/plain": [
              "<CacheDataset element_spec=(TensorSpec(shape=(None, 155, 155, 1), dtype=tf.float32, name=None), TensorSpec(shape=(None,), dtype=tf.int32, name=None))>"
            ]
          },
          "metadata": {},
          "execution_count": 16
        }
      ]
    },
    {
      "cell_type": "code",
      "execution_count": 17,
      "metadata": {
        "colab": {
          "base_uri": "https://localhost:8080/",
          "height": 138,
          "referenced_widgets": [
            "ab545ab642c1474ab2833b0c1ed1428d",
            "966ad93a7a4149ecb70c37ab50728573",
            "4a6d86b411ce40dabcb16bde7ee7c498",
            "0c428c3f159a4f8c885e1fe921abb766",
            "a7904cec30d6456b9417fb56a6fef15f",
            "07c51df0f9ba46c5b1fe972ff3efe8bc",
            "e9b8df91de254160ae47c290f286c219",
            "8d766499858a481baf4c2f4becafb722",
            "ec0fa9263b6b4277a0025ea5ab784df6",
            "e92ca10bcb124ab79d262fda63f5bb63",
            "31c4074e2f1641c68b95cc4d6197c8d0"
          ]
        },
        "id": "kCphufZUUQIH",
        "outputId": "7e55f039-c474-44b2-a9aa-78a98da00eb0"
      },
      "outputs": [
        {
          "output_type": "stream",
          "name": "stdout",
          "text": [
            "Downloading and preparing dataset 11.06 MiB (download: 11.06 MiB, generated: 21.00 MiB, total: 32.06 MiB) to /root/tensorflow_datasets/mnist/3.0.1...\n"
          ]
        },
        {
          "output_type": "display_data",
          "data": {
            "text/plain": [
              "Dl Completed...:   0%|          | 0/5 [00:00<?, ? file/s]"
            ],
            "application/vnd.jupyter.widget-view+json": {
              "version_major": 2,
              "version_minor": 0,
              "model_id": "ab545ab642c1474ab2833b0c1ed1428d"
            }
          },
          "metadata": {}
        },
        {
          "output_type": "stream",
          "name": "stdout",
          "text": [
            "Dataset mnist downloaded and prepared to /root/tensorflow_datasets/mnist/3.0.1. Subsequent calls will reuse this data.\n"
          ]
        },
        {
          "output_type": "execute_result",
          "data": {
            "text/plain": [
              "<CacheDataset element_spec=(TensorSpec(shape=(None, 28, 28, 1), dtype=tf.float32, name=None), TensorSpec(shape=(None,), dtype=tf.int64, name=None))>"
            ]
          },
          "metadata": {},
          "execution_count": 17
        }
      ],
      "source": [
        "import tensorflow_datasets as tfds\n",
        "(x_train,x_test), info= tfds.load(\n",
        "    \"mnist\",\n",
        "    batch_size = 2000,\n",
        "    split = [\"train\",\"test\"],\n",
        "    shuffle_files = True,\n",
        "    with_info = True,\n",
        "    as_supervised = True\n",
        ")\n",
        "x_train = x_train.map(normalise)\n",
        "x_train.cache()"
      ]
    },
    {
      "cell_type": "code",
      "execution_count": 41,
      "metadata": {
        "id": "3MW78-Z4rYJv"
      },
      "outputs": [],
      "source": [
        "model_mnist = keras.Sequential([\n",
        "    layers.Conv2D(filters = 16, kernel_size = 3, activation = \"relu\", kernel_initializer = 'he_normal', padding = 'same', input_shape = [28,28,1]),\n",
        "    layers.Conv2D(filters = 8, kernel_size = 3, activation = \"relu\", kernel_initializer = 'he_normal', padding = 'same'),\n",
        "    layers.MaxPooling2D(pool_size = (2,2)),\n",
        "    layers.Flatten(),\n",
        "    layers.Dense(units = 10, activation = \"softmax\")\n",
        "])"
      ]
    },
    {
      "cell_type": "code",
      "execution_count": 19,
      "metadata": {
        "id": "MYE0fPT6ZHPW"
      },
      "outputs": [],
      "source": [
        "model_op = keras.Sequential([\n",
        "    layers.Conv2D(filters = 32, kernel_size = 7, activation = \"relu\", padding = 'same', input_shape = [155,155,1]),\n",
        "    layers.MaxPooling2D(pool_size = (4,4)),\n",
        "    layers.Conv2D(filters = 16, kernel_size = 5, activation = \"relu\", padding = 'same'),\n",
        "    layers.MaxPooling2D(pool_size = (4,4)),\n",
        "    layers.Flatten(),\n",
        "    layers.Dense(units = 14, activation = \"softmax\")\n",
        "])"
      ]
    },
    {
      "cell_type": "code",
      "execution_count": 42,
      "metadata": {
        "colab": {
          "base_uri": "https://localhost:8080/"
        },
        "id": "HVITb_KAKKIx",
        "outputId": "b26a0890-9645-4c3e-b57c-8eaec242bf54"
      },
      "outputs": [
        {
          "output_type": "execute_result",
          "data": {
            "text/plain": [
              "<keras.src.callbacks.History at 0x7a1496850730>"
            ]
          },
          "metadata": {},
          "execution_count": 42
        }
      ],
      "source": [
        "model_mnist.compile(\n",
        "    optimizer=tf.keras.optimizers.Adam(epsilon=0.1),\n",
        "    loss='sparse_categorical_crossentropy',\n",
        "    metrics=['accuracy']\n",
        ")\n",
        "model_mnist.fit(\n",
        "    x_train,\n",
        "    validation_data = x_test,\n",
        "    epochs = 40,\n",
        "    verbose = 0\n",
        ")"
      ]
    },
    {
      "cell_type": "code",
      "execution_count": 21,
      "metadata": {
        "id": "y9y9Z68jZzSd",
        "colab": {
          "base_uri": "https://localhost:8080/"
        },
        "outputId": "516ab309-93c7-4118-c98b-6395cdf2a0ca"
      },
      "outputs": [
        {
          "output_type": "stream",
          "name": "stdout",
          "text": [
            "Epoch 1/10\n",
            "102/102 - 4s - loss: 2.6099 - accuracy: 0.1086 - 4s/epoch - 42ms/step\n",
            "Epoch 2/10\n",
            "102/102 - 2s - loss: 2.1294 - accuracy: 0.3547 - 2s/epoch - 22ms/step\n",
            "Epoch 3/10\n",
            "102/102 - 2s - loss: 1.3354 - accuracy: 0.6065 - 2s/epoch - 22ms/step\n",
            "Epoch 4/10\n",
            "102/102 - 6s - loss: 0.9744 - accuracy: 0.7179 - 6s/epoch - 56ms/step\n",
            "Epoch 5/10\n",
            "102/102 - 4s - loss: 0.7028 - accuracy: 0.7963 - 4s/epoch - 42ms/step\n",
            "Epoch 6/10\n",
            "102/102 - 2s - loss: 0.5281 - accuracy: 0.8505 - 2s/epoch - 23ms/step\n",
            "Epoch 7/10\n",
            "102/102 - 2s - loss: 0.4276 - accuracy: 0.8724 - 2s/epoch - 22ms/step\n",
            "Epoch 8/10\n",
            "102/102 - 2s - loss: 0.3650 - accuracy: 0.8945 - 2s/epoch - 24ms/step\n",
            "Epoch 9/10\n",
            "102/102 - 4s - loss: 0.3076 - accuracy: 0.9097 - 4s/epoch - 38ms/step\n",
            "Epoch 10/10\n",
            "102/102 - 2s - loss: 0.2602 - accuracy: 0.9237 - 2s/epoch - 23ms/step\n"
          ]
        },
        {
          "output_type": "execute_result",
          "data": {
            "text/plain": [
              "<keras.src.callbacks.History at 0x7a149834aa70>"
            ]
          },
          "metadata": {},
          "execution_count": 21
        }
      ],
      "source": [
        "model_op.compile(\n",
        "    optimizer=tf.keras.optimizers.Adam(epsilon=0.01),\n",
        "    loss='sparse_categorical_crossentropy',\n",
        "    metrics=['accuracy']\n",
        ")\n",
        "model_op.fit(\n",
        "    ds_train,\n",
        "    epochs = 10,\n",
        "    verbose = 0\n",
        ")"
      ]
    },
    {
      "cell_type": "code",
      "source": [
        "def num_pop(stack, num_list):\n",
        "  number = int(\"\".join(stack))\n",
        "  stack.clear()\n",
        "  num_list.append(number)\n",
        "  return stack, num_list"
      ],
      "metadata": {
        "id": "DbXDY-Zij_MR"
      },
      "execution_count": 7,
      "outputs": []
    },
    {
      "cell_type": "code",
      "execution_count": 8,
      "metadata": {
        "id": "mpW0FVrND0EO",
        "colab": {
          "base_uri": "https://localhost:8080/"
        },
        "outputId": "9f9113cf-df64-4cf8-ba01-91ba248a84e9"
      },
      "outputs": [
        {
          "output_type": "stream",
          "name": "stdout",
          "text": [
            "1/1 [==============================] - 0s 498ms/step\n",
            "1/1 [==============================] - 0s 199ms/step\n",
            "1/1 [==============================] - 0s 23ms/step\n",
            "1/1 [==============================] - 0s 22ms/step\n",
            "1/1 [==============================] - 0s 26ms/step\n",
            "1/1 [==============================] - 0s 29ms/step\n",
            "1/1 [==============================] - 0s 31ms/step\n",
            "1/1 [==============================] - 0s 24ms/step\n",
            "1/1 [==============================] - 0s 25ms/step\n",
            "1/1 [==============================] - 0s 30ms/step\n",
            "1/1 [==============================] - 0s 23ms/step\n",
            "1/1 [==============================] - 0s 22ms/step\n",
            "1/1 [==============================] - 0s 24ms/step\n",
            "1/1 [==============================] - 0s 28ms/step\n",
            "1/1 [==============================] - 0s 28ms/step\n",
            "1/1 [==============================] - 0s 24ms/step\n",
            "1/1 [==============================] - 0s 24ms/step\n",
            "1/1 [==============================] - 0s 24ms/step\n",
            "The answer is 1239.0 [78, 3, 1213]\n"
          ]
        }
      ],
      "source": [
        "numbers, stack, operation_queue = [], [], []\n",
        "for i in range(len(mnist_list)):\n",
        "  number = str(np.argmax(model_mnist.predict(mnist_list[i])))\n",
        "  op_predictions = model_op.predict(op_list[i])\n",
        "  operator = np.argmax(op_predictions)\n",
        "  if 2 <= operator <= 11:\n",
        "    stack.append(number)\n",
        "  else:\n",
        "    stack, numbers = num_pop(stack, numbers)\n",
        "    operation_queue.append(operator)\n",
        "stack, numbers = num_pop(stack, numbers)\n",
        "stack.append(numbers[0])\n",
        "n3 = 0\n",
        "for i in range(1,len(numbers)):\n",
        "  n1 = stack.pop()\n",
        "  n2 = numbers[i]\n",
        "  match operation_queue.pop(0):\n",
        "    case 0:\n",
        "      n3 = n1 + n2\n",
        "    case 1:\n",
        "      n3 = n1 - n2\n",
        "    case 12:\n",
        "      n3 = n1 * n2\n",
        "    case 13:\n",
        "      n3 = n1 / n2\n",
        "  stack.append(n3)\n",
        "print(\"The answer is\", stack.pop(), numbers)"
      ]
    },
    {
      "cell_type": "code",
      "source": [
        "'''model_mnist.save('model_mnist.keras')\n",
        "model_op.save('model_op.keras')\n",
        "!mv model_mnist.keras /content/drive/MyDrive/models\n",
        "!mv model_op.keras /content/drive/MyDrive/models'''"
      ],
      "metadata": {
        "id": "GWpa_3gXZ4lE"
      },
      "execution_count": 46,
      "outputs": []
    }
  ],
  "metadata": {
    "accelerator": "GPU",
    "colab": {
      "provenance": [],
      "gpuType": "T4",
      "include_colab_link": true
    },
    "kernelspec": {
      "display_name": "Python 3",
      "name": "python3"
    },
    "language_info": {
      "name": "python"
    },
    "widgets": {
      "application/vnd.jupyter.widget-state+json": {
        "ab545ab642c1474ab2833b0c1ed1428d": {
          "model_module": "@jupyter-widgets/controls",
          "model_name": "HBoxModel",
          "model_module_version": "1.5.0",
          "state": {
            "_dom_classes": [],
            "_model_module": "@jupyter-widgets/controls",
            "_model_module_version": "1.5.0",
            "_model_name": "HBoxModel",
            "_view_count": null,
            "_view_module": "@jupyter-widgets/controls",
            "_view_module_version": "1.5.0",
            "_view_name": "HBoxView",
            "box_style": "",
            "children": [
              "IPY_MODEL_966ad93a7a4149ecb70c37ab50728573",
              "IPY_MODEL_4a6d86b411ce40dabcb16bde7ee7c498",
              "IPY_MODEL_0c428c3f159a4f8c885e1fe921abb766"
            ],
            "layout": "IPY_MODEL_a7904cec30d6456b9417fb56a6fef15f"
          }
        },
        "966ad93a7a4149ecb70c37ab50728573": {
          "model_module": "@jupyter-widgets/controls",
          "model_name": "HTMLModel",
          "model_module_version": "1.5.0",
          "state": {
            "_dom_classes": [],
            "_model_module": "@jupyter-widgets/controls",
            "_model_module_version": "1.5.0",
            "_model_name": "HTMLModel",
            "_view_count": null,
            "_view_module": "@jupyter-widgets/controls",
            "_view_module_version": "1.5.0",
            "_view_name": "HTMLView",
            "description": "",
            "description_tooltip": null,
            "layout": "IPY_MODEL_07c51df0f9ba46c5b1fe972ff3efe8bc",
            "placeholder": "​",
            "style": "IPY_MODEL_e9b8df91de254160ae47c290f286c219",
            "value": "Dl Completed...: 100%"
          }
        },
        "4a6d86b411ce40dabcb16bde7ee7c498": {
          "model_module": "@jupyter-widgets/controls",
          "model_name": "FloatProgressModel",
          "model_module_version": "1.5.0",
          "state": {
            "_dom_classes": [],
            "_model_module": "@jupyter-widgets/controls",
            "_model_module_version": "1.5.0",
            "_model_name": "FloatProgressModel",
            "_view_count": null,
            "_view_module": "@jupyter-widgets/controls",
            "_view_module_version": "1.5.0",
            "_view_name": "ProgressView",
            "bar_style": "success",
            "description": "",
            "description_tooltip": null,
            "layout": "IPY_MODEL_8d766499858a481baf4c2f4becafb722",
            "max": 5,
            "min": 0,
            "orientation": "horizontal",
            "style": "IPY_MODEL_ec0fa9263b6b4277a0025ea5ab784df6",
            "value": 5
          }
        },
        "0c428c3f159a4f8c885e1fe921abb766": {
          "model_module": "@jupyter-widgets/controls",
          "model_name": "HTMLModel",
          "model_module_version": "1.5.0",
          "state": {
            "_dom_classes": [],
            "_model_module": "@jupyter-widgets/controls",
            "_model_module_version": "1.5.0",
            "_model_name": "HTMLModel",
            "_view_count": null,
            "_view_module": "@jupyter-widgets/controls",
            "_view_module_version": "1.5.0",
            "_view_name": "HTMLView",
            "description": "",
            "description_tooltip": null,
            "layout": "IPY_MODEL_e92ca10bcb124ab79d262fda63f5bb63",
            "placeholder": "​",
            "style": "IPY_MODEL_31c4074e2f1641c68b95cc4d6197c8d0",
            "value": " 5/5 [00:00&lt;00:00,  6.16 file/s]"
          }
        },
        "a7904cec30d6456b9417fb56a6fef15f": {
          "model_module": "@jupyter-widgets/base",
          "model_name": "LayoutModel",
          "model_module_version": "1.2.0",
          "state": {
            "_model_module": "@jupyter-widgets/base",
            "_model_module_version": "1.2.0",
            "_model_name": "LayoutModel",
            "_view_count": null,
            "_view_module": "@jupyter-widgets/base",
            "_view_module_version": "1.2.0",
            "_view_name": "LayoutView",
            "align_content": null,
            "align_items": null,
            "align_self": null,
            "border": null,
            "bottom": null,
            "display": null,
            "flex": null,
            "flex_flow": null,
            "grid_area": null,
            "grid_auto_columns": null,
            "grid_auto_flow": null,
            "grid_auto_rows": null,
            "grid_column": null,
            "grid_gap": null,
            "grid_row": null,
            "grid_template_areas": null,
            "grid_template_columns": null,
            "grid_template_rows": null,
            "height": null,
            "justify_content": null,
            "justify_items": null,
            "left": null,
            "margin": null,
            "max_height": null,
            "max_width": null,
            "min_height": null,
            "min_width": null,
            "object_fit": null,
            "object_position": null,
            "order": null,
            "overflow": null,
            "overflow_x": null,
            "overflow_y": null,
            "padding": null,
            "right": null,
            "top": null,
            "visibility": null,
            "width": null
          }
        },
        "07c51df0f9ba46c5b1fe972ff3efe8bc": {
          "model_module": "@jupyter-widgets/base",
          "model_name": "LayoutModel",
          "model_module_version": "1.2.0",
          "state": {
            "_model_module": "@jupyter-widgets/base",
            "_model_module_version": "1.2.0",
            "_model_name": "LayoutModel",
            "_view_count": null,
            "_view_module": "@jupyter-widgets/base",
            "_view_module_version": "1.2.0",
            "_view_name": "LayoutView",
            "align_content": null,
            "align_items": null,
            "align_self": null,
            "border": null,
            "bottom": null,
            "display": null,
            "flex": null,
            "flex_flow": null,
            "grid_area": null,
            "grid_auto_columns": null,
            "grid_auto_flow": null,
            "grid_auto_rows": null,
            "grid_column": null,
            "grid_gap": null,
            "grid_row": null,
            "grid_template_areas": null,
            "grid_template_columns": null,
            "grid_template_rows": null,
            "height": null,
            "justify_content": null,
            "justify_items": null,
            "left": null,
            "margin": null,
            "max_height": null,
            "max_width": null,
            "min_height": null,
            "min_width": null,
            "object_fit": null,
            "object_position": null,
            "order": null,
            "overflow": null,
            "overflow_x": null,
            "overflow_y": null,
            "padding": null,
            "right": null,
            "top": null,
            "visibility": null,
            "width": null
          }
        },
        "e9b8df91de254160ae47c290f286c219": {
          "model_module": "@jupyter-widgets/controls",
          "model_name": "DescriptionStyleModel",
          "model_module_version": "1.5.0",
          "state": {
            "_model_module": "@jupyter-widgets/controls",
            "_model_module_version": "1.5.0",
            "_model_name": "DescriptionStyleModel",
            "_view_count": null,
            "_view_module": "@jupyter-widgets/base",
            "_view_module_version": "1.2.0",
            "_view_name": "StyleView",
            "description_width": ""
          }
        },
        "8d766499858a481baf4c2f4becafb722": {
          "model_module": "@jupyter-widgets/base",
          "model_name": "LayoutModel",
          "model_module_version": "1.2.0",
          "state": {
            "_model_module": "@jupyter-widgets/base",
            "_model_module_version": "1.2.0",
            "_model_name": "LayoutModel",
            "_view_count": null,
            "_view_module": "@jupyter-widgets/base",
            "_view_module_version": "1.2.0",
            "_view_name": "LayoutView",
            "align_content": null,
            "align_items": null,
            "align_self": null,
            "border": null,
            "bottom": null,
            "display": null,
            "flex": null,
            "flex_flow": null,
            "grid_area": null,
            "grid_auto_columns": null,
            "grid_auto_flow": null,
            "grid_auto_rows": null,
            "grid_column": null,
            "grid_gap": null,
            "grid_row": null,
            "grid_template_areas": null,
            "grid_template_columns": null,
            "grid_template_rows": null,
            "height": null,
            "justify_content": null,
            "justify_items": null,
            "left": null,
            "margin": null,
            "max_height": null,
            "max_width": null,
            "min_height": null,
            "min_width": null,
            "object_fit": null,
            "object_position": null,
            "order": null,
            "overflow": null,
            "overflow_x": null,
            "overflow_y": null,
            "padding": null,
            "right": null,
            "top": null,
            "visibility": null,
            "width": null
          }
        },
        "ec0fa9263b6b4277a0025ea5ab784df6": {
          "model_module": "@jupyter-widgets/controls",
          "model_name": "ProgressStyleModel",
          "model_module_version": "1.5.0",
          "state": {
            "_model_module": "@jupyter-widgets/controls",
            "_model_module_version": "1.5.0",
            "_model_name": "ProgressStyleModel",
            "_view_count": null,
            "_view_module": "@jupyter-widgets/base",
            "_view_module_version": "1.2.0",
            "_view_name": "StyleView",
            "bar_color": null,
            "description_width": ""
          }
        },
        "e92ca10bcb124ab79d262fda63f5bb63": {
          "model_module": "@jupyter-widgets/base",
          "model_name": "LayoutModel",
          "model_module_version": "1.2.0",
          "state": {
            "_model_module": "@jupyter-widgets/base",
            "_model_module_version": "1.2.0",
            "_model_name": "LayoutModel",
            "_view_count": null,
            "_view_module": "@jupyter-widgets/base",
            "_view_module_version": "1.2.0",
            "_view_name": "LayoutView",
            "align_content": null,
            "align_items": null,
            "align_self": null,
            "border": null,
            "bottom": null,
            "display": null,
            "flex": null,
            "flex_flow": null,
            "grid_area": null,
            "grid_auto_columns": null,
            "grid_auto_flow": null,
            "grid_auto_rows": null,
            "grid_column": null,
            "grid_gap": null,
            "grid_row": null,
            "grid_template_areas": null,
            "grid_template_columns": null,
            "grid_template_rows": null,
            "height": null,
            "justify_content": null,
            "justify_items": null,
            "left": null,
            "margin": null,
            "max_height": null,
            "max_width": null,
            "min_height": null,
            "min_width": null,
            "object_fit": null,
            "object_position": null,
            "order": null,
            "overflow": null,
            "overflow_x": null,
            "overflow_y": null,
            "padding": null,
            "right": null,
            "top": null,
            "visibility": null,
            "width": null
          }
        },
        "31c4074e2f1641c68b95cc4d6197c8d0": {
          "model_module": "@jupyter-widgets/controls",
          "model_name": "DescriptionStyleModel",
          "model_module_version": "1.5.0",
          "state": {
            "_model_module": "@jupyter-widgets/controls",
            "_model_module_version": "1.5.0",
            "_model_name": "DescriptionStyleModel",
            "_view_count": null,
            "_view_module": "@jupyter-widgets/base",
            "_view_module_version": "1.2.0",
            "_view_name": "StyleView",
            "description_width": ""
          }
        }
      }
    }
  },
  "nbformat": 4,
  "nbformat_minor": 0
}